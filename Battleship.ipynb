{
 "cells": [
  {
   "cell_type": "code",
   "execution_count": null,
   "metadata": {
    "collapsed": true
   },
   "outputs": [],
   "source": [
    "import numpy as np\n",
    "import random"
   ]
  },
  {
   "cell_type": "code",
   "execution_count": null,
   "metadata": {
    "collapsed": false
   },
   "outputs": [],
   "source": []
  },
  {
   "cell_type": "code",
   "execution_count": null,
   "metadata": {
    "collapsed": false
   },
   "outputs": [],
   "source": []
  },
  {
   "cell_type": "code",
   "execution_count": null,
   "metadata": {
    "collapsed": false
   },
   "outputs": [],
   "source": [
    "def make_ship():\n",
    "    sea = np.zeros([4,4])\n",
    "    x = random.randint(0,3)\n",
    "    y = random.randint(0,3)\n",
    "    is_horizontal = random.randint(0,1)\n",
    "    if is_horizontal==1:\n",
    "        if y==3:\n",
    "            y1 = y-1\n",
    "            y2 = y-2\n",
    "        elif y==0:\n",
    "            y1 = y+1\n",
    "            y2 = y+2\n",
    "        else:\n",
    "            y1 = y+1\n",
    "            y2 = y-1\n",
    "        sea[x,y]=1\n",
    "        sea[x,y1]=1\n",
    "        sea[x,y2]=1\n",
    "    else:\n",
    "        if x==3:\n",
    "            x1 = x-1\n",
    "            x2 = x-2\n",
    "        elif x==0:\n",
    "            x1 = x+1\n",
    "            x2 = x+2\n",
    "        else:\n",
    "            x1 = x+1\n",
    "            x2 = x-1\n",
    "        sea[x,y]=1\n",
    "        sea[x1,y]=1\n",
    "        sea[x2,y]=1\n",
    "    return sea\n",
    "    \n",
    "    \n",
    "sea = make_ship()\n",
    "            "
   ]
  },
  {
   "cell_type": "code",
   "execution_count": null,
   "metadata": {
    "collapsed": false
   },
   "outputs": [],
   "source": [
    "def attack(sea, x, y):\n",
    "    if sea[x,y]==0:\n",
    "        sea[x,y]+=0.5\n",
    "        print \"You shot water...\"\n",
    "        return sea\n",
    "    if sea[x,y]==1:\n",
    "        sea[x,y]+=0.5\n",
    "        print \"You got the ship!\"\n",
    "        return sea\n",
    "    if sea[x,y]==0.5 or sea[x,y]==1.5:\n",
    "        print \"You have shot here already!\"\n",
    "        return sea\n"
   ]
  },
  {
   "cell_type": "code",
   "execution_count": null,
   "metadata": {
    "collapsed": false
   },
   "outputs": [],
   "source": [
    "turn_num=0\n",
    "\n",
    "while turn_num < 5:\n",
    "\n",
    "    while True:\n",
    "        user_input_x = raw_input(\"Where do you want to shoot? Give a row:\")\n",
    "        try:\n",
    "            x = int(user_input_x)\n",
    "        except ValueError:\n",
    "            continue\n",
    "        if x in range(1,5):\n",
    "            break\n",
    "    \n",
    "    while True:\n",
    "        user_input_y = raw_input(\"Now give a column:\")\n",
    "        try:\n",
    "            y = int(user_input_y)\n",
    "        except ValueError:\n",
    "            continue\n",
    "        if y in range(1,5):\n",
    "            break\n",
    "    \n",
    "\n",
    "    sea_attack = attack(sea, x-1, y-1)\n",
    "    turn_num+=1\n",
    "    print(\"Turns left: {}\".format(5-turn_num))"
   ]
  },
  {
   "cell_type": "code",
   "execution_count": null,
   "metadata": {
    "collapsed": false
   },
   "outputs": [],
   "source": []
  },
  {
   "cell_type": "code",
   "execution_count": null,
   "metadata": {
    "collapsed": false
   },
   "outputs": [],
   "source": [
    "fig, ax = plt.subplots()\n",
    "cm = plt.set_cmap('Blues')\n",
    "ax.imshow(sea_attack, interpolation='nearest')\n"
   ]
  },
  {
   "cell_type": "code",
   "execution_count": null,
   "metadata": {
    "collapsed": true
   },
   "outputs": [],
   "source": []
  }
 ],
 "metadata": {
  "kernelspec": {
   "display_name": "Python 2",
   "language": "python",
   "name": "python2"
  },
  "language_info": {
   "codemirror_mode": {
    "name": "ipython",
    "version": 2
   },
   "file_extension": ".py",
   "mimetype": "text/x-python",
   "name": "python",
   "nbconvert_exporter": "python",
   "pygments_lexer": "ipython2",
   "version": "2.7.12"
  }
 },
 "nbformat": 4,
 "nbformat_minor": 0
}
