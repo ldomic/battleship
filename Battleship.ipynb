{
 "cells": [
  {
   "cell_type": "code",
   "execution_count": 21,
   "metadata": {
    "collapsed": true
   },
   "outputs": [],
   "source": [
    "import numpy as np\n",
    "import random"
   ]
  },
  {
   "cell_type": "code",
   "execution_count": null,
   "metadata": {
    "collapsed": false
   },
   "outputs": [],
   "source": []
  },
  {
   "cell_type": "code",
   "execution_count": null,
   "metadata": {
    "collapsed": false
   },
   "outputs": [],
   "source": []
  },
  {
   "cell_type": "code",
   "execution_count": 45,
   "metadata": {
    "collapsed": false
   },
   "outputs": [
    {
     "data": {
      "text/plain": [
       "array([[0, 0, 0, 0],\n",
       "       [0, 0, 0, 1],\n",
       "       [0, 0, 0, 1],\n",
       "       [0, 0, 0, 1]])"
      ]
     },
     "execution_count": 45,
     "metadata": {},
     "output_type": "execute_result"
    }
   ],
   "source": [
    "def make_ship():\n",
    "    sea = np.zeros([4,4],dtype=int)\n",
    "    x = random.randint(0,3)\n",
    "    y = random.randint(0,3)\n",
    "    is_horizontal = random.randint(0,1)\n",
    "    if is_horizontal==1:\n",
    "        if y==3:\n",
    "            y1 = y-1\n",
    "            y2 = y-2\n",
    "        elif y==0:\n",
    "            y1 = y+1\n",
    "            y2 = y+2\n",
    "        else:\n",
    "            y1 = y+1\n",
    "            y2 = y-1\n",
    "        sea[x,y]=1\n",
    "        sea[x,y1]=1\n",
    "        sea[x,y2]=1\n",
    "    else:\n",
    "        if x==3:\n",
    "            x1 = x-1\n",
    "            x2 = x-2\n",
    "        elif x==0:\n",
    "            x1 = x+1\n",
    "            x2 = x+2\n",
    "        else:\n",
    "            x1 = x+1\n",
    "            x2 = x-1\n",
    "        sea[x,y]=1\n",
    "        sea[x1,y]=1\n",
    "        sea[x2,y]=1\n",
    "    return sea\n",
    "    \n",
    "    \n",
    "make_ship()\n",
    "            "
   ]
  },
  {
   "cell_type": "code",
   "execution_count": null,
   "metadata": {
    "collapsed": true
   },
   "outputs": [],
   "source": []
  }
 ],
 "metadata": {
  "kernelspec": {
   "display_name": "Python 2",
   "language": "python",
   "name": "python2"
  },
  "language_info": {
   "codemirror_mode": {
    "name": "ipython",
    "version": 2
   },
   "file_extension": ".py",
   "mimetype": "text/x-python",
   "name": "python",
   "nbconvert_exporter": "python",
   "pygments_lexer": "ipython2",
   "version": "2.7.12"
  }
 },
 "nbformat": 4,
 "nbformat_minor": 0
}
